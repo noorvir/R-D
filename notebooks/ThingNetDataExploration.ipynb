{
 "cells": [
  {
   "cell_type": "code",
   "execution_count": null,
   "metadata": {},
   "outputs": [],
   "source": [
    "import os\n",
    "import numpy as np\n",
    "from matplotlib import pyplot as plt\n",
    "from scipy.misc import imread\n",
    "from skimage.filters import median\n",
    "from skimage.morphology import disk\n",
    "\n",
    "from skimage.color.adapt_rgb import adapt_rgb\n",
    "from skimage.color.adapt_rgb import hsv_value, each_channel\n",
    "\n",
    "import cv2\n",
    "\n",
    "plt.ion()"
   ]
  },
  {
   "cell_type": "code",
   "execution_count": null,
   "metadata": {},
   "outputs": [],
   "source": [
    "base_dir = \"/home/noorvir/Documents/data/scenenet_data/val/SceneNetRGBD-val/val/0\"\n",
    "\n"
   ]
  },
  {
   "cell_type": "code",
   "execution_count": null,
   "metadata": {},
   "outputs": [],
   "source": [
    "def view_images(sp, i):\n",
    "    sp = str(sp)\n",
    "    i = str(i)\n",
    "    p = os.path.join(base_dir, sp)\n",
    "    instancep = os.path.join(p, 'instance', i +\".png\")\n",
    "    depthp = os.path.join(p, 'depth', i + \".png\")\n",
    "    rgbp = os.path.join(p, \"photo\", i + \".jpg\")\n",
    "    \n",
    "    ins = imread(instancep)\n",
    "    dp = imread(depthp)\n",
    "    rgb = imread(rgbp)\n",
    "    \n",
    "    plt.figure()\n",
    "    plt.imshow(ins)\n",
    "    plt.figure()\n",
    "    plt.imshow(dp)\n",
    "    plt.figure()\n",
    "    plt.imshow(rgb)\n",
    "    \n",
    "    return rgb, dp, ins\n",
    "    "
   ]
  },
  {
   "cell_type": "code",
   "execution_count": null,
   "metadata": {},
   "outputs": [],
   "source": [
    "r, d, ins = view_images(37,0)"
   ]
  },
  {
   "cell_type": "code",
   "execution_count": null,
   "metadata": {},
   "outputs": [],
   "source": [
    "def gaussian_blur(im=None, k=5, sigma=1):\n",
    "    kwargs = {'ksize': k,\n",
    "              'sigmaX': sigma}\n",
    "\n",
    "    def blur(image):\n",
    "        return cv2.GaussianBlur(image, **kwargs)\n",
    "\n",
    "    if im is None:\n",
    "        return blur\n",
    "    else:\n",
    "        return blur(im)\n",
    "\n",
    "\n",
    "def normalise(im=None, max_val=1, log_scale=False, adaptation='rgb'):\n",
    "    \"\"\"\n",
    "\n",
    "    Parameters\n",
    "    ----------\n",
    "    im\n",
    "    max_val: int\n",
    "    adaptation\n",
    "\n",
    "    log_scale: bool\n",
    "\n",
    "    Returns\n",
    "    -------\n",
    "\n",
    "    \"\"\"\n",
    "    adapt = hsv_value if adaptation == 'hsv' else each_channel\n",
    "\n",
    "    @adapt_rgb(adapt)\n",
    "    def f(image):\n",
    "        if log_scale:\n",
    "            image = np.log10(np.clip(image, 0.001, 10 ** 10))\n",
    "\n",
    "        return max_val * (image - image.min())/(image.max() - image.min())\n",
    "\n",
    "    if im is None:\n",
    "        return f\n",
    "    else:\n",
    "        return f(im)\n",
    "\n",
    "\n",
    "def gradient(im=None, blur=None, adaptation='rgb'):\n",
    "\n",
    "    adapt = hsv_value if adaptation == 'hsv' else each_channel\n",
    "\n",
    "    @adapt_rgb(adapt)\n",
    "    def f(image):\n",
    "\n",
    "        if blur is not None:\n",
    "            image = blur(image)\n",
    "\n",
    "        sobelx = cv2.Sobel(image, cv2.CV_64F, 1, 0, ksize=5)\n",
    "        sobely = cv2.Sobel(image, cv2.CV_64F, 0, 1, ksize=5)\n",
    "\n",
    "        return np.sqrt((sobelx ** 2) + (sobely ** 2))\n",
    "\n",
    "    if im is None:\n",
    "        return f\n",
    "    else:\n",
    "        return f(im)\n",
    "\n",
    "\n",
    "def laplacian(im=None, blur=None, adaptation='rgb'):\n",
    "\n",
    "    adapt = hsv_value if adaptation == 'hsv' else each_channel\n",
    "\n",
    "    @adapt_rgb(adapt)\n",
    "    def f(image):\n",
    "\n",
    "        if blur is not None:\n",
    "            image = blur(image)\n",
    "\n",
    "        limg = cv2.Laplacian(image, cv2.CV_64F)\n",
    "        limg = (limg - limg.min()) / (limg.max() - limg.min())\n",
    "\n",
    "        return limg\n",
    "\n",
    "    if im is None:\n",
    "        return f\n",
    "    else:\n",
    "        return f(im)\n",
    "\n",
    "\n",
    "def median(im=None, disk_size=2, adaptation='rgb'):\n",
    "\n",
    "    adapt = hsv_value if adaptation == 'hsv' else each_channel\n",
    "\n",
    "    @adapt_rgb(adapt)\n",
    "    def f(image):\n",
    "        return cv2.medianBlur(image, disk_size)\n",
    "\n",
    "    if im is None:\n",
    "        return f\n",
    "    else:\n",
    "        return f(im)\n"
   ]
  },
  {
   "cell_type": "code",
   "execution_count": null,
   "metadata": {},
   "outputs": [],
   "source": [
    "plt.imshow(normalise()(gradient(adaptation='rgb')(r)))"
   ]
  },
  {
   "cell_type": "code",
   "execution_count": null,
   "metadata": {},
   "outputs": [],
   "source": [
    "plt.imshow(normalise(adaptation='hsv')(gradient()(r)))"
   ]
  },
  {
   "cell_type": "code",
   "execution_count": null,
   "metadata": {},
   "outputs": [],
   "source": [
    "grad_im = gradient(r)\n",
    "print(grad_im.shape)\n",
    "grad_im = (grad_im - grad_im.min())/(grad_im.max() - grad_im.min())\n",
    "\n",
    "log_im = np.log10(np.clip(gradient(r), 1, 10000))\n",
    "plt.imshow(grad_im)\n",
    "\n",
    "log_im = (log_im - log_im.min())/(log_im.max() - log_im.min())\n",
    "plt.figure()\n",
    "plt.imshow(log_im)\n",
    "\n",
    "\n",
    "print(grad_im.mean())\n",
    "print(log_im.mean())\n",
    "print(log_im.std())"
   ]
  },
  {
   "cell_type": "code",
   "execution_count": null,
   "metadata": {},
   "outputs": [],
   "source": [
    "108 **2"
   ]
  },
  {
   "cell_type": "code",
   "execution_count": null,
   "metadata": {},
   "outputs": [],
   "source": [
    "plt.imshow(gradient(r)[:,:,0] + gradient(r)[:,:,1])"
   ]
  },
  {
   "cell_type": "code",
   "execution_count": null,
   "metadata": {},
   "outputs": [],
   "source": [
    "plt.imshow(gradient(r)[:,:,0])"
   ]
  },
  {
   "cell_type": "code",
   "execution_count": null,
   "metadata": {},
   "outputs": [],
   "source": [
    "plt.imshow(gradient(r)[:,:,1])"
   ]
  },
  {
   "cell_type": "code",
   "execution_count": null,
   "metadata": {},
   "outputs": [],
   "source": [
    "gb = gaussian_blur((5,5), 5)\n",
    "\n",
    "limg = laplacian(r, gb)\n",
    "limg = (limg - limg.min())/(limg.max() - limg.min())\n",
    "plt.imshow(limg)"
   ]
  },
  {
   "cell_type": "code",
   "execution_count": null,
   "metadata": {},
   "outputs": [],
   "source": [
    "limg = laplacian(median_color(r, 2))\n",
    "\n",
    "limg = (limg - limg.min())/(limg.max() - limg.min())\n",
    "plt.imshow(limg)"
   ]
  },
  {
   "cell_type": "code",
   "execution_count": null,
   "metadata": {},
   "outputs": [],
   "source": [
    "gb = gaussian_blur((3,3), 2)\n",
    "\n",
    "plt.imshow(gb(r))"
   ]
  }
 ],
 "metadata": {
  "kernelspec": {
   "display_name": "Python 3",
   "language": "python",
   "name": "python3"
  },
  "language_info": {
   "codemirror_mode": {
    "name": "ipython",
    "version": 3
   },
   "file_extension": ".py",
   "mimetype": "text/x-python",
   "name": "python",
   "nbconvert_exporter": "python",
   "pygments_lexer": "ipython3",
   "version": "3.5.3"
  }
 },
 "nbformat": 4,
 "nbformat_minor": 2
}
